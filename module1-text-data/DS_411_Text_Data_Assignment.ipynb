{
  "nbformat": 4,
  "nbformat_minor": 0,
  "metadata": {
    "colab": {
      "name": "DS_411_Text_Data_Assignment.ipynb",
      "provenance": [],
      "collapsed_sections": [],
      "include_colab_link": true
    },
    "kernelspec": {
      "display_name": "U4-S1-NLP (Python 3)",
      "language": "python",
      "name": "u4-s1-nlp"
    },
    "language_info": {
      "codemirror_mode": {
        "name": "ipython",
        "version": 3
      },
      "file_extension": ".py",
      "mimetype": "text/x-python",
      "name": "python",
      "nbconvert_exporter": "python",
      "pygments_lexer": "ipython3",
      "version": "3.7.3"
    },
    "toc-autonumbering": false
  },
  "cells": [
    {
      "cell_type": "markdown",
      "metadata": {
        "id": "view-in-github",
        "colab_type": "text"
      },
      "source": [
        "<a href=\"https://colab.research.google.com/github/n8mcdunna/DS-Unit-4-Sprint-1-NLP/blob/main/module1-text-data/DS_411_Text_Data_Assignment.ipynb\" target=\"_parent\"><img src=\"https://colab.research.google.com/assets/colab-badge.svg\" alt=\"Open In Colab\"/></a>"
      ]
    },
    {
      "cell_type": "markdown",
      "metadata": {
        "id": "Uwu3lpHRz4ld"
      },
      "source": [
        "<img align=\"left\" src=\"https://lever-client-logos.s3.amazonaws.com/864372b1-534c-480e-acd5-9711f850815c-1524247202159.png\" width=200>\n",
        "<br></br>\n",
        "<br></br>\n",
        "\n",
        "# Natural Language Processing (NLP)\n",
        "## *Data Science Unit 4 Sprint 1 Assignment 1*\n",
        "\n",
        "Your goal in this assignment: find the attributes of the best & worst coffee shops in the dataset. The text is fairly raw: dates in the review, extra words in the `star_rating` column, etc. You'll probably want to clean that stuff up for a better analysis. \n",
        "\n",
        "Analyze the corpus of text using text visualizations of token frequency. Try cleaning the data as much as possible. Try the following techniques: \n",
        "- Lemmatization\n",
        "- Custom stopword removal\n",
        "\n",
        "Keep in mind the attributes of good tokens. Once you have a solid baseline, layer in the star rating in your visualization(s). Key part of this assignment - produce a write-up of the attributes of the best and worst coffee shops. Based on your analysis, what makes the best the best and the worst the worst. Use graphs and numbesr from your analysis to support your conclusions. There should be plenty of markdown cells! :coffee:"
      ]
    },
    {
      "cell_type": "code",
      "metadata": {
        "id": "USTKJ9hxEXaT"
      },
      "source": [
        "!wget https://raw.githubusercontent.com/LambdaSchool/DS-Unit-4-Sprint-1-NLP/main/requirements.txt\n",
        "!pip install -r requirements.txt"
      ],
      "execution_count": null,
      "outputs": []
    },
    {
      "cell_type": "code",
      "metadata": {
        "id": "d6Xqr_LhEOwi"
      },
      "source": [
        "!python -m spacy download en_core_web_lg \n",
        "# Restart runtime after running this download"
      ],
      "execution_count": null,
      "outputs": []
    },
    {
      "cell_type": "code",
      "metadata": {
        "colab": {
          "base_uri": "https://localhost:8080/"
        },
        "id": "V8s-wn2ZEzmg",
        "outputId": "cd8ffcd4-b1f6-48ee-e4f2-8209bc07c333"
      },
      "source": [
        "# Base\n",
        "from collections import Counter\n",
        "import re\n",
        " \n",
        "import pandas as pd\n",
        "\n",
        "# Plotting\n",
        "import squarify\n",
        "import matplotlib.pyplot as plt\n",
        "import seaborn as sns\n",
        "\n",
        "# NLP Libraries\n",
        "import spacy\n",
        "from spacy.tokenizer import Tokenizer\n",
        "from nltk.stem import PorterStemmer\n",
        "\n",
        "nlp = spacy.load(\"en_core_web_lg\")"
      ],
      "execution_count": 2,
      "outputs": [
        {
          "output_type": "stream",
          "text": [
            "/usr/local/lib/python3.6/dist-packages/statsmodels/tools/_testing.py:19: FutureWarning: pandas.util.testing is deprecated. Use the functions in the public API at pandas.testing instead.\n",
            "  import pandas.util.testing as tm\n"
          ],
          "name": "stderr"
        }
      ]
    },
    {
      "cell_type": "code",
      "metadata": {
        "id": "GdtFKifqz4le",
        "colab": {
          "base_uri": "https://localhost:8080/",
          "height": 321
        },
        "outputId": "538db3f7-c730-4c90-e843-2132f14b3ed1"
      },
      "source": [
        "from IPython.display import YouTubeVideo\n",
        "\n",
        "YouTubeVideo('Jml7NVYm8cs')"
      ],
      "execution_count": 1,
      "outputs": [
        {
          "output_type": "execute_result",
          "data": {
            "text/html": [
              "\n",
              "        <iframe\n",
              "            width=\"400\"\n",
              "            height=\"300\"\n",
              "            src=\"https://www.youtube.com/embed/Jml7NVYm8cs\"\n",
              "            frameborder=\"0\"\n",
              "            allowfullscreen\n",
              "        ></iframe>\n",
              "        "
            ],
            "text/plain": [
              "<IPython.lib.display.YouTubeVideo at 0x7fbb6bd2e2b0>"
            ],
            "image/jpeg": "[encoded data removed]"
          },
          "metadata": {
            "tags": []
          },
          "execution_count": 1
        }
      ]
    },
    {
      "cell_type": "code",
      "metadata": {
        "id": "5IE_4KYUz4lk",
        "colab": {
          "base_uri": "https://localhost:8080/",
          "height": 35
        },
        "outputId": "596da621-a27c-4320-af33-1bd22b74ec28"
      },
      "source": [
        "%pwd"
      ],
      "execution_count": 2,
      "outputs": [
        {
          "output_type": "execute_result",
          "data": {
            "application/vnd.google.colaboratory.intrinsic+json": {
              "type": "string"
            },
            "text/plain": [
              "'/content'"
            ]
          },
          "metadata": {
            "tags": []
          },
          "execution_count": 2
        }
      ]
    },
    {
      "cell_type": "code",
      "metadata": {
        "id": "KwAma4Coz4ll",
        "colab": {
          "base_uri": "https://localhost:8080/",
          "height": 204
        },
        "outputId": "9c1876d1-13a0-4830-c91f-8e882c7da292"
      },
      "source": [
        "import pandas as pd\n",
        "\n",
        "url = \"https://raw.githubusercontent.com/LambdaSchool/DS-Unit-4-Sprint-1-NLP/main/module1-text-data/data/yelp_coffeeshop_review_data.csv\"\n",
        "\n",
        "shops = pd.read_csv(url)\n",
        "shops.head()"
      ],
      "execution_count": 4,
      "outputs": [
        {
          "output_type": "execute_result",
          "data": {
            "text/html": [
              "<div>\n",
              "<style scoped>\n",
              "    .dataframe tbody tr th:only-of-type {\n",
              "        vertical-align: middle;\n",
              "    }\n",
              "\n",
              "    .dataframe tbody tr th {\n",
              "        vertical-align: top;\n",
              "    }\n",
              "\n",
              "    .dataframe thead th {\n",
              "        text-align: right;\n",
              "    }\n",
              "</style>\n",
              "<table border=\"1\" class=\"dataframe\">\n",
              "  <thead>\n",
              "    <tr style=\"text-align: right;\">\n",
              "      <th></th>\n",
              "      <th>coffee_shop_name</th>\n",
              "      <th>full_review_text</th>\n",
              "      <th>star_rating</th>\n",
              "    </tr>\n",
              "  </thead>\n",
              "  <tbody>\n",
              "    <tr>\n",
              "      <th>0</th>\n",
              "      <td>The Factory - Cafe With a Soul</td>\n",
              "      <td>11/25/2016 1 check-in Love love loved the atm...</td>\n",
              "      <td>5.0 star rating</td>\n",
              "    </tr>\n",
              "    <tr>\n",
              "      <th>1</th>\n",
              "      <td>The Factory - Cafe With a Soul</td>\n",
              "      <td>12/2/2016 Listed in Date Night: Austin, Ambia...</td>\n",
              "      <td>4.0 star rating</td>\n",
              "    </tr>\n",
              "    <tr>\n",
              "      <th>2</th>\n",
              "      <td>The Factory - Cafe With a Soul</td>\n",
              "      <td>11/30/2016 1 check-in Listed in Brunch Spots ...</td>\n",
              "      <td>4.0 star rating</td>\n",
              "    </tr>\n",
              "    <tr>\n",
              "      <th>3</th>\n",
              "      <td>The Factory - Cafe With a Soul</td>\n",
              "      <td>11/25/2016 Very cool decor! Good drinks Nice ...</td>\n",
              "      <td>2.0 star rating</td>\n",
              "    </tr>\n",
              "    <tr>\n",
              "      <th>4</th>\n",
              "      <td>The Factory - Cafe With a Soul</td>\n",
              "      <td>12/3/2016 1 check-in They are located within ...</td>\n",
              "      <td>4.0 star rating</td>\n",
              "    </tr>\n",
              "  </tbody>\n",
              "</table>\n",
              "</div>"
            ],
            "text/plain": [
              "                  coffee_shop_name  ...        star_rating\n",
              "0  The Factory - Cafe With a Soul   ...   5.0 star rating \n",
              "1  The Factory - Cafe With a Soul   ...   4.0 star rating \n",
              "2  The Factory - Cafe With a Soul   ...   4.0 star rating \n",
              "3  The Factory - Cafe With a Soul   ...   2.0 star rating \n",
              "4  The Factory - Cafe With a Soul   ...   4.0 star rating \n",
              "\n",
              "[5 rows x 3 columns]"
            ]
          },
          "metadata": {
            "tags": []
          },
          "execution_count": 4
        }
      ]
    },
    {
      "cell_type": "code",
      "metadata": {
        "id": "ojXZynq0z4lm",
        "colab": {
          "base_uri": "https://localhost:8080/"
        },
        "outputId": "213c3827-1368-4407-b41a-88c01deeb19f"
      },
      "source": [
        "shops['star_rating'].value_counts()"
      ],
      "execution_count": 4,
      "outputs": [
        {
          "output_type": "execute_result",
          "data": {
            "text/plain": [
              " 5.0 star rating     3780\n",
              " 4.0 star rating     2360\n",
              " 3.0 star rating      738\n",
              " 2.0 star rating      460\n",
              " 1.0 star rating      278\n",
              "Name: star_rating, dtype: int64"
            ]
          },
          "metadata": {
            "tags": []
          },
          "execution_count": 4
        }
      ]
    },
    {
      "cell_type": "code",
      "metadata": {
        "colab": {
          "base_uri": "https://localhost:8080/",
          "height": 35
        },
        "id": "aJVlXhPj1IuP",
        "outputId": "2b2cc58a-f6e6-429b-b065-7ea1952fe080"
      },
      "source": [
        "shops['star_rating'][0][1]"
      ],
      "execution_count": 10,
      "outputs": [
        {
          "output_type": "execute_result",
          "data": {
            "application/vnd.google.colaboratory.intrinsic+json": {
              "type": "string"
            },
            "text/plain": [
              "'5'"
            ]
          },
          "metadata": {
            "tags": []
          },
          "execution_count": 10
        }
      ]
    },
    {
      "cell_type": "code",
      "metadata": {
        "id": "JOP7XOnK14OA"
      },
      "source": [
        "# Extracting just the rating from star rating\n",
        "shops['star_rating'] = shops['star_rating'].apply(lambda x:x[1])"
      ],
      "execution_count": 5,
      "outputs": []
    },
    {
      "cell_type": "code",
      "metadata": {
        "id": "CcHyETEB2evL"
      },
      "source": [
        "# Remove date from review text\n",
        "import re\n",
        "review_text = shops['full_review_text'][4]\n",
        "shops['full_review_text'] = shops['full_review_text'].apply(lambda text:re.sub('(\\d+/\\d+/\\d+)', '', text))"
      ],
      "execution_count": 6,
      "outputs": []
    },
    {
      "cell_type": "code",
      "metadata": {
        "id": "CtipK_iK8twH"
      },
      "source": [
        "shops.head(30)"
      ],
      "execution_count": null,
      "outputs": []
    },
    {
      "cell_type": "code",
      "metadata": {
        "colab": {
          "base_uri": "https://localhost:8080/"
        },
        "id": "eb9Oo_VXBLd1",
        "outputId": "75196a8a-5ab5-4d45-d81e-2a73fb17d810"
      },
      "source": [
        "shops['coffee_shop_name'].nunique()"
      ],
      "execution_count": 33,
      "outputs": [
        {
          "output_type": "execute_result",
          "data": {
            "text/plain": [
              "79"
            ]
          },
          "metadata": {
            "tags": []
          },
          "execution_count": 33
        }
      ]
    },
    {
      "cell_type": "markdown",
      "metadata": {
        "id": "g9mHOOxSz4lm"
      },
      "source": [
        "## How do we want to analyze these coffee shop tokens? \n",
        "\n",
        "- Overall Word / Token Count\n",
        "- View Counts by Rating \n",
        "- *Hint:* a 'bad' coffee shops has a rating betweeen 1 & 3 based on the distribution of ratings. A 'good' coffee shop is a 4 or 5. "
      ]
    },
    {
      "cell_type": "code",
      "metadata": {
        "id": "ag3f6ohxz4lm"
      },
      "source": [
        "# Create \"good\" or \"bad\" column based on star rating\n",
        "shops['Good/Bad'] = shops['star_rating'].replace({\n",
        "    '1' : 'Bad',\n",
        "    '2' : 'Bad',\n",
        "    '3' : 'Bad',\n",
        "    '4' : 'Good',\n",
        "    '5' : 'Good'\n",
        "    })"
      ],
      "execution_count": 8,
      "outputs": []
    },
    {
      "cell_type": "code",
      "metadata": {
        "colab": {
          "base_uri": "https://localhost:8080/"
        },
        "id": "sZMaeeLmDH2o",
        "outputId": "9457716d-2a10-4e26-d846-0e20c8bd9152"
      },
      "source": [
        "shops['Good/Bad'].value_counts()"
      ],
      "execution_count": 9,
      "outputs": [
        {
          "output_type": "execute_result",
          "data": {
            "text/plain": [
              "Good    6140\n",
              "Bad     1476\n",
              "Name: Good/Bad, dtype: int64"
            ]
          },
          "metadata": {
            "tags": []
          },
          "execution_count": 9
        }
      ]
    },
    {
      "cell_type": "code",
      "metadata": {
        "id": "HSIWUMu1I56s"
      },
      "source": [
        "from spacy.tokenizer import Tokenizer"
      ],
      "execution_count": 19,
      "outputs": []
    },
    {
      "cell_type": "code",
      "metadata": {
        "id": "9y95k8ZfIjH-"
      },
      "source": [
        "tokenizer = Tokenizer(nlp.vocab)\n",
        "\n",
        "tokens = []\n",
        "\n",
        "for doc in tokenizer.pipe(shops['full_review_text']):\n",
        "  doc_tokens = []\n",
        "  for token in doc:\n",
        "    if (token.is_stop == False) & (token.is_punct == False) & (token.is_space == False):\n",
        "      doc_tokens.append(token.text.lower())\n",
        "  tokens.append(doc_tokens)\n",
        "shops.drop(labels=['tokens2'], axis=1,inplace=True)\n",
        "shops['tokens'] = tokens"
      ],
      "execution_count": 37,
      "outputs": []
    },
    {
      "cell_type": "code",
      "metadata": {
        "colab": {
          "base_uri": "https://localhost:8080/",
          "height": 204
        },
        "id": "6VpEoGFRJZFj",
        "outputId": "315dc8a7-40cb-44c6-b767-077fe423be9f"
      },
      "source": [
        "shops.head()"
      ],
      "execution_count": 38,
      "outputs": [
        {
          "output_type": "execute_result",
          "data": {
            "text/html": [
              "<div>\n",
              "<style scoped>\n",
              "    .dataframe tbody tr th:only-of-type {\n",
              "        vertical-align: middle;\n",
              "    }\n",
              "\n",
              "    .dataframe tbody tr th {\n",
              "        vertical-align: top;\n",
              "    }\n",
              "\n",
              "    .dataframe thead th {\n",
              "        text-align: right;\n",
              "    }\n",
              "</style>\n",
              "<table border=\"1\" class=\"dataframe\">\n",
              "  <thead>\n",
              "    <tr style=\"text-align: right;\">\n",
              "      <th></th>\n",
              "      <th>coffee_shop_name</th>\n",
              "      <th>full_review_text</th>\n",
              "      <th>star_rating</th>\n",
              "      <th>Good/Bad</th>\n",
              "      <th>tokens</th>\n",
              "    </tr>\n",
              "  </thead>\n",
              "  <tbody>\n",
              "    <tr>\n",
              "      <th>0</th>\n",
              "      <td>The Factory - Cafe With a Soul</td>\n",
              "      <td>1 check-in Love love loved the atmosphere! E...</td>\n",
              "      <td>5</td>\n",
              "      <td>Good</td>\n",
              "      <td>[1, check-in, love, love, loved, atmosphere!, ...</td>\n",
              "    </tr>\n",
              "    <tr>\n",
              "      <th>1</th>\n",
              "      <td>The Factory - Cafe With a Soul</td>\n",
              "      <td>Listed in Date Night: Austin, Ambiance in Au...</td>\n",
              "      <td>4</td>\n",
              "      <td>Good</td>\n",
              "      <td>[listed, date, night:, austin,, ambiance, aust...</td>\n",
              "    </tr>\n",
              "    <tr>\n",
              "      <th>2</th>\n",
              "      <td>The Factory - Cafe With a Soul</td>\n",
              "      <td>1 check-in Listed in Brunch Spots I loved th...</td>\n",
              "      <td>4</td>\n",
              "      <td>Good</td>\n",
              "      <td>[1, check-in, listed, brunch, spots, loved, ec...</td>\n",
              "    </tr>\n",
              "    <tr>\n",
              "      <th>3</th>\n",
              "      <td>The Factory - Cafe With a Soul</td>\n",
              "      <td>Very cool decor! Good drinks Nice seating  H...</td>\n",
              "      <td>2</td>\n",
              "      <td>Bad</td>\n",
              "      <td>[cool, decor!, good, drinks, nice, seating, ho...</td>\n",
              "    </tr>\n",
              "    <tr>\n",
              "      <th>4</th>\n",
              "      <td>The Factory - Cafe With a Soul</td>\n",
              "      <td>1 check-in They are located within the North...</td>\n",
              "      <td>4</td>\n",
              "      <td>Good</td>\n",
              "      <td>[1, check-in, located, northcross, mall, shopp...</td>\n",
              "    </tr>\n",
              "  </tbody>\n",
              "</table>\n",
              "</div>"
            ],
            "text/plain": [
              "                  coffee_shop_name  ...                                             tokens\n",
              "0  The Factory - Cafe With a Soul   ...  [1, check-in, love, love, loved, atmosphere!, ...\n",
              "1  The Factory - Cafe With a Soul   ...  [listed, date, night:, austin,, ambiance, aust...\n",
              "2  The Factory - Cafe With a Soul   ...  [1, check-in, listed, brunch, spots, loved, ec...\n",
              "3  The Factory - Cafe With a Soul   ...  [cool, decor!, good, drinks, nice, seating, ho...\n",
              "4  The Factory - Cafe With a Soul   ...  [1, check-in, located, northcross, mall, shopp...\n",
              "\n",
              "[5 rows x 5 columns]"
            ]
          },
          "metadata": {
            "tags": []
          },
          "execution_count": 38
        }
      ]
    },
    {
      "cell_type": "code",
      "metadata": {
        "colab": {
          "base_uri": "https://localhost:8080/",
          "height": 221
        },
        "id": "94W6Q1RdJtoW",
        "outputId": "2d06545c-ceb8-4e5c-a7e5-39ed557807c5"
      },
      "source": [
        "word_count = count(shops['tokens'])\n",
        "print(word_count.shape)\n",
        "word_count.head()"
      ],
      "execution_count": 24,
      "outputs": [
        {
          "output_type": "stream",
          "text": [
            "(44520, 7)\n"
          ],
          "name": "stdout"
        },
        {
          "output_type": "execute_result",
          "data": {
            "text/html": [
              "<div>\n",
              "<style scoped>\n",
              "    .dataframe tbody tr th:only-of-type {\n",
              "        vertical-align: middle;\n",
              "    }\n",
              "\n",
              "    .dataframe tbody tr th {\n",
              "        vertical-align: top;\n",
              "    }\n",
              "\n",
              "    .dataframe thead th {\n",
              "        text-align: right;\n",
              "    }\n",
              "</style>\n",
              "<table border=\"1\" class=\"dataframe\">\n",
              "  <thead>\n",
              "    <tr style=\"text-align: right;\">\n",
              "      <th></th>\n",
              "      <th>word</th>\n",
              "      <th>appears_in</th>\n",
              "      <th>count</th>\n",
              "      <th>rank</th>\n",
              "      <th>pct_total</th>\n",
              "      <th>cul_pct_total</th>\n",
              "      <th>appears_in_pct</th>\n",
              "    </tr>\n",
              "  </thead>\n",
              "  <tbody>\n",
              "    <tr>\n",
              "      <th>60</th>\n",
              "      <td>the</td>\n",
              "      <td>6520</td>\n",
              "      <td>27779</td>\n",
              "      <td>1.0</td>\n",
              "      <td>0.034660</td>\n",
              "      <td>0.034660</td>\n",
              "      <td>0.856092</td>\n",
              "    </tr>\n",
              "    <tr>\n",
              "      <th>29</th>\n",
              "      <td>and</td>\n",
              "      <td>6804</td>\n",
              "      <td>25748</td>\n",
              "      <td>2.0</td>\n",
              "      <td>0.032126</td>\n",
              "      <td>0.066786</td>\n",
              "      <td>0.893382</td>\n",
              "    </tr>\n",
              "    <tr>\n",
              "      <th>33</th>\n",
              "      <td>a</td>\n",
              "      <td>6181</td>\n",
              "      <td>22085</td>\n",
              "      <td>3.0</td>\n",
              "      <td>0.027556</td>\n",
              "      <td>0.094342</td>\n",
              "      <td>0.811581</td>\n",
              "    </tr>\n",
              "    <tr>\n",
              "      <th>16</th>\n",
              "      <td>I</td>\n",
              "      <td>5469</td>\n",
              "      <td>19780</td>\n",
              "      <td>4.0</td>\n",
              "      <td>0.024680</td>\n",
              "      <td>0.119021</td>\n",
              "      <td>0.718093</td>\n",
              "    </tr>\n",
              "    <tr>\n",
              "      <th>12</th>\n",
              "      <td>to</td>\n",
              "      <td>5631</td>\n",
              "      <td>16904</td>\n",
              "      <td>5.0</td>\n",
              "      <td>0.021091</td>\n",
              "      <td>0.140113</td>\n",
              "      <td>0.739364</td>\n",
              "    </tr>\n",
              "  </tbody>\n",
              "</table>\n",
              "</div>"
            ],
            "text/plain": [
              "   word  appears_in  count  rank  pct_total  cul_pct_total  appears_in_pct\n",
              "60  the        6520  27779   1.0   0.034660       0.034660        0.856092\n",
              "29  and        6804  25748   2.0   0.032126       0.066786        0.893382\n",
              "33    a        6181  22085   3.0   0.027556       0.094342        0.811581\n",
              "16    I        5469  19780   4.0   0.024680       0.119021        0.718093\n",
              "12   to        5631  16904   5.0   0.021091       0.140113        0.739364"
            ]
          },
          "metadata": {
            "tags": []
          },
          "execution_count": 24
        }
      ]
    },
    {
      "cell_type": "code",
      "metadata": {
        "colab": {
          "base_uri": "https://localhost:8080/",
          "height": 248
        },
        "id": "cSk-ZoyCHCeB",
        "outputId": "1ed42684-116e-48e6-c537-20c2663b4d5c"
      },
      "source": [
        "top_50 = word_count.head(50)\n",
        "squarify.plot(sizes=top_50['pct_total'],label=top_50['word'])\n",
        "plt.axis('off');"
      ],
      "execution_count": 28,
      "outputs": [
        {
          "output_type": "display_data",
          "data": {
            "image/png": "[encoded data removed]",
            "text/plain": [
              "<Figure size 432x288 with 1 Axes>"
            ]
          },
          "metadata": {
            "tags": [],
            "needs_background": "light"
          }
        }
      ]
    },
    {
      "cell_type": "code",
      "metadata": {
        "colab": {
          "base_uri": "https://localhost:8080/",
          "height": 248
        },
        "id": "NoGke97uQBnA",
        "outputId": "5b75cd29-900e-4185-bcd0-1ae00fa6685f"
      },
      "source": [
        "# After using spacy nlp tokenizer and filtering for stop words, punctuation, and whitespaces\n",
        "word_count = count(shops['tokens'])\n",
        "filtered_50 = word_count.head(50)\n",
        "squarify.plot(sizes=filtered_50['pct_total'],label=filtered_50['word'])\n",
        "\n",
        "plt.axis('off');"
      ],
      "execution_count": 42,
      "outputs": [
        {
          "output_type": "display_data",
          "data": {
            "image/png": "[encoded data removed]",
            "text/plain": [
              "<Figure size 432x288 with 1 Axes>"
            ]
          },
          "metadata": {
            "tags": [],
            "needs_background": "light"
          }
        }
      ]
    },
    {
      "cell_type": "code",
      "metadata": {
        "id": "-Ir8QzryQsgt"
      },
      "source": [
        "word_count.head(50)"
      ],
      "execution_count": null,
      "outputs": []
    },
    {
      "cell_type": "code",
      "metadata": {
        "id": "QESajsGrSmEO"
      },
      "source": [
        "stop_words = nlp.Defaults.stop_words.union(['check', '-', 'in', 'ins'])"
      ],
      "execution_count": 117,
      "outputs": []
    },
    {
      "cell_type": "code",
      "metadata": {
        "colab": {
          "base_uri": "https://localhost:8080/"
        },
        "id": "WEVMGS2kdsm5",
        "outputId": "75be3615-6b74-4aa9-b51d-634ec849c2ac"
      },
      "source": [
        "'The' in stop_words"
      ],
      "execution_count": 119,
      "outputs": [
        {
          "output_type": "execute_result",
          "data": {
            "text/plain": [
              "False"
            ]
          },
          "metadata": {
            "tags": []
          },
          "execution_count": 119
        }
      ]
    },
    {
      "cell_type": "code",
      "metadata": {
        "id": "X7Rk4a0-R_hH"
      },
      "source": [
        "def get_lemmas(text):\n",
        "  lemmas = []\n",
        "  row = nlp(text)\n",
        "\n",
        "  for token in row:\n",
        "    if ((token.is_punct == False) and (token.is_space == False) and (token.lower_ not in stop_words) and (token.is_digit == False) and (token.pos_!='-pron-') and (token.pos_!='PRON')):\n",
        "      lemmas.append(token.lemma_.lower())\n",
        "  return lemmas"
      ],
      "execution_count": 116,
      "outputs": []
    },
    {
      "cell_type": "code",
      "metadata": {
        "id": "DqndMUsUTHwN"
      },
      "source": [
        "shops['lemmas'] = shops['full_review_text'].apply(get_lemmas)"
      ],
      "execution_count": 120,
      "outputs": []
    },
    {
      "cell_type": "code",
      "metadata": {
        "colab": {
          "base_uri": "https://localhost:8080/",
          "height": 359
        },
        "id": "OLriUWDPZptZ",
        "outputId": "e027b64a-458a-4075-cf98-660ce4415e79"
      },
      "source": [
        "shops.head(10)"
      ],
      "execution_count": 121,
      "outputs": [
        {
          "output_type": "execute_result",
          "data": {
            "text/html": [
              "<div>\n",
              "<style scoped>\n",
              "    .dataframe tbody tr th:only-of-type {\n",
              "        vertical-align: middle;\n",
              "    }\n",
              "\n",
              "    .dataframe tbody tr th {\n",
              "        vertical-align: top;\n",
              "    }\n",
              "\n",
              "    .dataframe thead th {\n",
              "        text-align: right;\n",
              "    }\n",
              "</style>\n",
              "<table border=\"1\" class=\"dataframe\">\n",
              "  <thead>\n",
              "    <tr style=\"text-align: right;\">\n",
              "      <th></th>\n",
              "      <th>coffee_shop_name</th>\n",
              "      <th>full_review_text</th>\n",
              "      <th>star_rating</th>\n",
              "      <th>Good/Bad</th>\n",
              "      <th>tokens</th>\n",
              "      <th>lemmas</th>\n",
              "    </tr>\n",
              "  </thead>\n",
              "  <tbody>\n",
              "    <tr>\n",
              "      <th>0</th>\n",
              "      <td>The Factory - Cafe With a Soul</td>\n",
              "      <td>1 check-in Love love loved the atmosphere! E...</td>\n",
              "      <td>5</td>\n",
              "      <td>Good</td>\n",
              "      <td>[1, check-in, love, love, loved, atmosphere!, ...</td>\n",
              "      <td>[love, love, love, atmosphere, corner, coffee,...</td>\n",
              "    </tr>\n",
              "    <tr>\n",
              "      <th>1</th>\n",
              "      <td>The Factory - Cafe With a Soul</td>\n",
              "      <td>Listed in Date Night: Austin, Ambiance in Au...</td>\n",
              "      <td>4</td>\n",
              "      <td>Good</td>\n",
              "      <td>[listed, date, night:, austin,, ambiance, aust...</td>\n",
              "      <td>[list, date, night, austin, ambiance, austin, ...</td>\n",
              "    </tr>\n",
              "    <tr>\n",
              "      <th>2</th>\n",
              "      <td>The Factory - Cafe With a Soul</td>\n",
              "      <td>1 check-in Listed in Brunch Spots I loved th...</td>\n",
              "      <td>4</td>\n",
              "      <td>Good</td>\n",
              "      <td>[1, check-in, listed, brunch, spots, loved, ec...</td>\n",
              "      <td>[list, brunch, spots, love, eclectic, homey, p...</td>\n",
              "    </tr>\n",
              "    <tr>\n",
              "      <th>3</th>\n",
              "      <td>The Factory - Cafe With a Soul</td>\n",
              "      <td>Very cool decor! Good drinks Nice seating  H...</td>\n",
              "      <td>2</td>\n",
              "      <td>Bad</td>\n",
              "      <td>[cool, decor!, good, drinks, nice, seating, ho...</td>\n",
              "      <td>[cool, decor, good, drink, nice, seating, over...</td>\n",
              "    </tr>\n",
              "    <tr>\n",
              "      <th>4</th>\n",
              "      <td>The Factory - Cafe With a Soul</td>\n",
              "      <td>1 check-in They are located within the North...</td>\n",
              "      <td>4</td>\n",
              "      <td>Good</td>\n",
              "      <td>[1, check-in, located, northcross, mall, shopp...</td>\n",
              "      <td>[locate, northcross, mall, shopping, center, f...</td>\n",
              "    </tr>\n",
              "    <tr>\n",
              "      <th>5</th>\n",
              "      <td>The Factory - Cafe With a Soul</td>\n",
              "      <td>1 check-in Very cute cafe! I think from the ...</td>\n",
              "      <td>4</td>\n",
              "      <td>Good</td>\n",
              "      <td>[1, check-in, cute, cafe!, think, moment, step...</td>\n",
              "      <td>[cute, cafe, think, moment, step, find, cute, ...</td>\n",
              "    </tr>\n",
              "    <tr>\n",
              "      <th>6</th>\n",
              "      <td>The Factory - Cafe With a Soul</td>\n",
              "      <td>2 check-ins Listed in \"Nuptial Coffee Bliss!...</td>\n",
              "      <td>4</td>\n",
              "      <td>Good</td>\n",
              "      <td>[2, check-ins, listed, \"nuptial, coffee, bliss...</td>\n",
              "      <td>[list, nuptial, coffee, bliss, anderson, lane,...</td>\n",
              "    </tr>\n",
              "    <tr>\n",
              "      <th>7</th>\n",
              "      <td>The Factory - Cafe With a Soul</td>\n",
              "      <td>2 check-ins Love this place!  5 stars for cl...</td>\n",
              "      <td>5</td>\n",
              "      <td>Good</td>\n",
              "      <td>[2, check-ins, love, place!, 5, stars, cleanli...</td>\n",
              "      <td>[love, place, star, cleanliness, star, fun, am...</td>\n",
              "    </tr>\n",
              "    <tr>\n",
              "      <th>8</th>\n",
              "      <td>The Factory - Cafe With a Soul</td>\n",
              "      <td>1 check-in Ok, let's try this approach...  P...</td>\n",
              "      <td>3</td>\n",
              "      <td>Bad</td>\n",
              "      <td>[1, check-in, ok,, let's, try, approach..., pr...</td>\n",
              "      <td>[ok, let, try, approach, pro, music, seating, ...</td>\n",
              "    </tr>\n",
              "    <tr>\n",
              "      <th>9</th>\n",
              "      <td>The Factory - Cafe With a Soul</td>\n",
              "      <td>3 check-ins This place has been shown on my ...</td>\n",
              "      <td>5</td>\n",
              "      <td>Good</td>\n",
              "      <td>[3, check-ins, place, shown, social, media, da...</td>\n",
              "      <td>[place, show, social, medium, day, finally, vi...</td>\n",
              "    </tr>\n",
              "  </tbody>\n",
              "</table>\n",
              "</div>"
            ],
            "text/plain": [
              "                  coffee_shop_name  ...                                             lemmas\n",
              "0  The Factory - Cafe With a Soul   ...  [love, love, love, atmosphere, corner, coffee,...\n",
              "1  The Factory - Cafe With a Soul   ...  [list, date, night, austin, ambiance, austin, ...\n",
              "2  The Factory - Cafe With a Soul   ...  [list, brunch, spots, love, eclectic, homey, p...\n",
              "3  The Factory - Cafe With a Soul   ...  [cool, decor, good, drink, nice, seating, over...\n",
              "4  The Factory - Cafe With a Soul   ...  [locate, northcross, mall, shopping, center, f...\n",
              "5  The Factory - Cafe With a Soul   ...  [cute, cafe, think, moment, step, find, cute, ...\n",
              "6  The Factory - Cafe With a Soul   ...  [list, nuptial, coffee, bliss, anderson, lane,...\n",
              "7  The Factory - Cafe With a Soul   ...  [love, place, star, cleanliness, star, fun, am...\n",
              "8  The Factory - Cafe With a Soul   ...  [ok, let, try, approach, pro, music, seating, ...\n",
              "9  The Factory - Cafe With a Soul   ...  [place, show, social, medium, day, finally, vi...\n",
              "\n",
              "[10 rows x 6 columns]"
            ]
          },
          "metadata": {
            "tags": []
          },
          "execution_count": 121
        }
      ]
    },
    {
      "cell_type": "code",
      "metadata": {
        "colab": {
          "base_uri": "https://localhost:8080/",
          "height": 248
        },
        "id": "IbSO04EFbXI6",
        "outputId": "fceedb1c-7efd-47cc-ca6c-ec17a244de73"
      },
      "source": [
        "# Plotting after lemmatization and filtering\n",
        "word_count = count(shops['lemmas'])\n",
        "filtered_50 = word_count.head(50)\n",
        "squarify.plot(sizes=filtered_50['pct_total'],label=filtered_50['word'])\n",
        "\n",
        "plt.axis('off');"
      ],
      "execution_count": 122,
      "outputs": [
        {
          "output_type": "display_data",
          "data": {
            "image/png": "[encoded data removed]",
            "text/plain": [
              "<Figure size 432x288 with 1 Axes>"
            ]
          },
          "metadata": {
            "tags": [],
            "needs_background": "light"
          }
        }
      ]
    },
    {
      "cell_type": "markdown",
      "metadata": {
        "id": "l0lzqzTAz4lm"
      },
      "source": [
        "## Can visualize the words with the greatest difference in counts between 'good' & 'bad'?\n",
        "\n",
        "Couple Notes: \n",
        "- Rel. freq. instead of absolute counts b/c of different numbers of reviews\n",
        "- Only look at the top 5-10 words with the greatest differences\n"
      ]
    },
    {
      "cell_type": "code",
      "metadata": {
        "id": "KNudvv3Rz4lm"
      },
      "source": [
        "# Divide shops dataframe into two dataframes, good and bad\n",
        "good_shops = shops[shops['Good/Bad'] == 'Good']\n",
        "bad_shops = shops[shops['Good/Bad'] == 'Bad']"
      ],
      "execution_count": 123,
      "outputs": []
    },
    {
      "cell_type": "code",
      "metadata": {
        "id": "ZizdD4P_kZbP"
      },
      "source": [
        "# coffee, place, and good are the top three words for both good and bad shops"
      ],
      "execution_count": null,
      "outputs": []
    },
    {
      "cell_type": "code",
      "metadata": {
        "colab": {
          "base_uri": "https://localhost:8080/",
          "height": 421
        },
        "id": "RWp1cFRMj4MH",
        "outputId": "bdf631da-4399-44b9-dff1-c53bb2fe47f4"
      },
      "source": [
        "good_shops_words = count(good_shops['lemmas'])\n",
        "good_shops_words.iloc[3:15]"
      ],
      "execution_count": 138,
      "outputs": [
        {
          "output_type": "execute_result",
          "data": {
            "text/html": [
              "<div>\n",
              "<style scoped>\n",
              "    .dataframe tbody tr th:only-of-type {\n",
              "        vertical-align: middle;\n",
              "    }\n",
              "\n",
              "    .dataframe tbody tr th {\n",
              "        vertical-align: top;\n",
              "    }\n",
              "\n",
              "    .dataframe thead th {\n",
              "        text-align: right;\n",
              "    }\n",
              "</style>\n",
              "<table border=\"1\" class=\"dataframe\">\n",
              "  <thead>\n",
              "    <tr style=\"text-align: right;\">\n",
              "      <th></th>\n",
              "      <th>word</th>\n",
              "      <th>appears_in</th>\n",
              "      <th>count</th>\n",
              "      <th>rank</th>\n",
              "      <th>pct_total</th>\n",
              "      <th>cul_pct_total</th>\n",
              "      <th>appears_in_pct</th>\n",
              "    </tr>\n",
              "  </thead>\n",
              "  <tbody>\n",
              "    <tr>\n",
              "      <th>71</th>\n",
              "      <td>great</td>\n",
              "      <td>2511</td>\n",
              "      <td>3487</td>\n",
              "      <td>4.0</td>\n",
              "      <td>0.012753</td>\n",
              "      <td>0.077594</td>\n",
              "      <td>0.408958</td>\n",
              "    </tr>\n",
              "    <tr>\n",
              "      <th>180</th>\n",
              "      <td>like</td>\n",
              "      <td>1677</td>\n",
              "      <td>2434</td>\n",
              "      <td>5.0</td>\n",
              "      <td>0.008902</td>\n",
              "      <td>0.086496</td>\n",
              "      <td>0.273127</td>\n",
              "    </tr>\n",
              "    <tr>\n",
              "      <th>27</th>\n",
              "      <td>love</td>\n",
              "      <td>1610</td>\n",
              "      <td>2132</td>\n",
              "      <td>6.0</td>\n",
              "      <td>0.007797</td>\n",
              "      <td>0.094293</td>\n",
              "      <td>0.262215</td>\n",
              "    </tr>\n",
              "    <tr>\n",
              "      <th>48</th>\n",
              "      <td>austin</td>\n",
              "      <td>1586</td>\n",
              "      <td>2043</td>\n",
              "      <td>7.0</td>\n",
              "      <td>0.007472</td>\n",
              "      <td>0.101765</td>\n",
              "      <td>0.258306</td>\n",
              "    </tr>\n",
              "    <tr>\n",
              "      <th>376</th>\n",
              "      <td>come</td>\n",
              "      <td>1480</td>\n",
              "      <td>1988</td>\n",
              "      <td>8.0</td>\n",
              "      <td>0.007271</td>\n",
              "      <td>0.109036</td>\n",
              "      <td>0.241042</td>\n",
              "    </tr>\n",
              "    <tr>\n",
              "      <th>4</th>\n",
              "      <td>shop</td>\n",
              "      <td>1329</td>\n",
              "      <td>1778</td>\n",
              "      <td>9.0</td>\n",
              "      <td>0.006503</td>\n",
              "      <td>0.115539</td>\n",
              "      <td>0.216450</td>\n",
              "    </tr>\n",
              "    <tr>\n",
              "      <th>378</th>\n",
              "      <td>time</td>\n",
              "      <td>1344</td>\n",
              "      <td>1778</td>\n",
              "      <td>10.0</td>\n",
              "      <td>0.006503</td>\n",
              "      <td>0.122042</td>\n",
              "      <td>0.218893</td>\n",
              "    </tr>\n",
              "    <tr>\n",
              "      <th>32</th>\n",
              "      <td>drink</td>\n",
              "      <td>1277</td>\n",
              "      <td>1734</td>\n",
              "      <td>11.0</td>\n",
              "      <td>0.006342</td>\n",
              "      <td>0.128383</td>\n",
              "      <td>0.207980</td>\n",
              "    </tr>\n",
              "    <tr>\n",
              "      <th>80</th>\n",
              "      <td>try</td>\n",
              "      <td>1332</td>\n",
              "      <td>1712</td>\n",
              "      <td>12.0</td>\n",
              "      <td>0.006261</td>\n",
              "      <td>0.134645</td>\n",
              "      <td>0.216938</td>\n",
              "    </tr>\n",
              "    <tr>\n",
              "      <th>33</th>\n",
              "      <td>latte</td>\n",
              "      <td>1037</td>\n",
              "      <td>1555</td>\n",
              "      <td>13.0</td>\n",
              "      <td>0.005687</td>\n",
              "      <td>0.140332</td>\n",
              "      <td>0.168893</td>\n",
              "    </tr>\n",
              "    <tr>\n",
              "      <th>169</th>\n",
              "      <td>friendly</td>\n",
              "      <td>1447</td>\n",
              "      <td>1524</td>\n",
              "      <td>14.0</td>\n",
              "      <td>0.005574</td>\n",
              "      <td>0.145906</td>\n",
              "      <td>0.235668</td>\n",
              "    </tr>\n",
              "    <tr>\n",
              "      <th>493</th>\n",
              "      <td>work</td>\n",
              "      <td>1182</td>\n",
              "      <td>1498</td>\n",
              "      <td>15.0</td>\n",
              "      <td>0.005479</td>\n",
              "      <td>0.151384</td>\n",
              "      <td>0.192508</td>\n",
              "    </tr>\n",
              "  </tbody>\n",
              "</table>\n",
              "</div>"
            ],
            "text/plain": [
              "         word  appears_in  count  ...  pct_total  cul_pct_total  appears_in_pct\n",
              "71      great        2511   3487  ...   0.012753       0.077594        0.408958\n",
              "180      like        1677   2434  ...   0.008902       0.086496        0.273127\n",
              "27       love        1610   2132  ...   0.007797       0.094293        0.262215\n",
              "48     austin        1586   2043  ...   0.007472       0.101765        0.258306\n",
              "376      come        1480   1988  ...   0.007271       0.109036        0.241042\n",
              "4        shop        1329   1778  ...   0.006503       0.115539        0.216450\n",
              "378      time        1344   1778  ...   0.006503       0.122042        0.218893\n",
              "32      drink        1277   1734  ...   0.006342       0.128383        0.207980\n",
              "80        try        1332   1712  ...   0.006261       0.134645        0.216938\n",
              "33      latte        1037   1555  ...   0.005687       0.140332        0.168893\n",
              "169  friendly        1447   1524  ...   0.005574       0.145906        0.235668\n",
              "493      work        1182   1498  ...   0.005479       0.151384        0.192508\n",
              "\n",
              "[12 rows x 7 columns]"
            ]
          },
          "metadata": {
            "tags": []
          },
          "execution_count": 138
        }
      ]
    },
    {
      "cell_type": "code",
      "metadata": {
        "colab": {
          "base_uri": "https://localhost:8080/",
          "height": 421
        },
        "id": "-8OkdrGYj_Uc",
        "outputId": "895eba64-49e1-4616-edea-b17ea8cb3929"
      },
      "source": [
        "bad_shops_words = count(bad_shops['lemmas'])\n",
        "bad_shops_words.iloc[3:15]"
      ],
      "execution_count": 140,
      "outputs": [
        {
          "output_type": "execute_result",
          "data": {
            "text/html": [
              "<div>\n",
              "<style scoped>\n",
              "    .dataframe tbody tr th:only-of-type {\n",
              "        vertical-align: middle;\n",
              "    }\n",
              "\n",
              "    .dataframe tbody tr th {\n",
              "        vertical-align: top;\n",
              "    }\n",
              "\n",
              "    .dataframe thead th {\n",
              "        text-align: right;\n",
              "    }\n",
              "</style>\n",
              "<table border=\"1\" class=\"dataframe\">\n",
              "  <thead>\n",
              "    <tr style=\"text-align: right;\">\n",
              "      <th></th>\n",
              "      <th>word</th>\n",
              "      <th>appears_in</th>\n",
              "      <th>count</th>\n",
              "      <th>rank</th>\n",
              "      <th>pct_total</th>\n",
              "      <th>cul_pct_total</th>\n",
              "      <th>appears_in_pct</th>\n",
              "    </tr>\n",
              "  </thead>\n",
              "  <tbody>\n",
              "    <tr>\n",
              "      <th>17</th>\n",
              "      <td>like</td>\n",
              "      <td>596</td>\n",
              "      <td>945</td>\n",
              "      <td>4.0</td>\n",
              "      <td>0.012309</td>\n",
              "      <td>0.070234</td>\n",
              "      <td>0.403794</td>\n",
              "    </tr>\n",
              "    <tr>\n",
              "      <th>104</th>\n",
              "      <td>order</td>\n",
              "      <td>430</td>\n",
              "      <td>759</td>\n",
              "      <td>5.0</td>\n",
              "      <td>0.009886</td>\n",
              "      <td>0.080120</td>\n",
              "      <td>0.291328</td>\n",
              "    </tr>\n",
              "    <tr>\n",
              "      <th>68</th>\n",
              "      <td>come</td>\n",
              "      <td>452</td>\n",
              "      <td>650</td>\n",
              "      <td>6.0</td>\n",
              "      <td>0.008467</td>\n",
              "      <td>0.088587</td>\n",
              "      <td>0.306233</td>\n",
              "    </tr>\n",
              "    <tr>\n",
              "      <th>214</th>\n",
              "      <td>time</td>\n",
              "      <td>425</td>\n",
              "      <td>617</td>\n",
              "      <td>7.0</td>\n",
              "      <td>0.008037</td>\n",
              "      <td>0.096624</td>\n",
              "      <td>0.287940</td>\n",
              "    </tr>\n",
              "    <tr>\n",
              "      <th>32</th>\n",
              "      <td>drink</td>\n",
              "      <td>364</td>\n",
              "      <td>610</td>\n",
              "      <td>8.0</td>\n",
              "      <td>0.007946</td>\n",
              "      <td>0.104569</td>\n",
              "      <td>0.246612</td>\n",
              "    </tr>\n",
              "    <tr>\n",
              "      <th>65</th>\n",
              "      <td>food</td>\n",
              "      <td>324</td>\n",
              "      <td>507</td>\n",
              "      <td>9.0</td>\n",
              "      <td>0.006604</td>\n",
              "      <td>0.111173</td>\n",
              "      <td>0.219512</td>\n",
              "    </tr>\n",
              "    <tr>\n",
              "      <th>58</th>\n",
              "      <td>great</td>\n",
              "      <td>348</td>\n",
              "      <td>472</td>\n",
              "      <td>10.0</td>\n",
              "      <td>0.006148</td>\n",
              "      <td>0.117321</td>\n",
              "      <td>0.235772</td>\n",
              "    </tr>\n",
              "    <tr>\n",
              "      <th>27</th>\n",
              "      <td>service</td>\n",
              "      <td>347</td>\n",
              "      <td>450</td>\n",
              "      <td>11.0</td>\n",
              "      <td>0.005862</td>\n",
              "      <td>0.123183</td>\n",
              "      <td>0.235095</td>\n",
              "    </tr>\n",
              "    <tr>\n",
              "      <th>103</th>\n",
              "      <td>go</td>\n",
              "      <td>338</td>\n",
              "      <td>450</td>\n",
              "      <td>12.0</td>\n",
              "      <td>0.005862</td>\n",
              "      <td>0.129044</td>\n",
              "      <td>0.228997</td>\n",
              "    </tr>\n",
              "    <tr>\n",
              "      <th>9</th>\n",
              "      <td>get</td>\n",
              "      <td>332</td>\n",
              "      <td>445</td>\n",
              "      <td>13.0</td>\n",
              "      <td>0.005796</td>\n",
              "      <td>0.134841</td>\n",
              "      <td>0.224932</td>\n",
              "    </tr>\n",
              "    <tr>\n",
              "      <th>75</th>\n",
              "      <td>try</td>\n",
              "      <td>342</td>\n",
              "      <td>432</td>\n",
              "      <td>14.0</td>\n",
              "      <td>0.005627</td>\n",
              "      <td>0.140468</td>\n",
              "      <td>0.231707</td>\n",
              "    </tr>\n",
              "    <tr>\n",
              "      <th>163</th>\n",
              "      <td>shop</td>\n",
              "      <td>315</td>\n",
              "      <td>430</td>\n",
              "      <td>15.0</td>\n",
              "      <td>0.005601</td>\n",
              "      <td>0.146069</td>\n",
              "      <td>0.213415</td>\n",
              "    </tr>\n",
              "  </tbody>\n",
              "</table>\n",
              "</div>"
            ],
            "text/plain": [
              "        word  appears_in  count  rank  pct_total  cul_pct_total  appears_in_pct\n",
              "17      like         596    945   4.0   0.012309       0.070234        0.403794\n",
              "104    order         430    759   5.0   0.009886       0.080120        0.291328\n",
              "68      come         452    650   6.0   0.008467       0.088587        0.306233\n",
              "214     time         425    617   7.0   0.008037       0.096624        0.287940\n",
              "32     drink         364    610   8.0   0.007946       0.104569        0.246612\n",
              "65      food         324    507   9.0   0.006604       0.111173        0.219512\n",
              "58     great         348    472  10.0   0.006148       0.117321        0.235772\n",
              "27   service         347    450  11.0   0.005862       0.123183        0.235095\n",
              "103       go         338    450  12.0   0.005862       0.129044        0.228997\n",
              "9        get         332    445  13.0   0.005796       0.134841        0.224932\n",
              "75       try         342    432  14.0   0.005627       0.140468        0.231707\n",
              "163     shop         315    430  15.0   0.005601       0.146069        0.213415"
            ]
          },
          "metadata": {
            "tags": []
          },
          "execution_count": 140
        }
      ]
    },
    {
      "cell_type": "code",
      "metadata": {
        "colab": {
          "base_uri": "https://localhost:8080/",
          "height": 248
        },
        "id": "lQiwKLR9hyJV",
        "outputId": "5adcb8d2-32a7-4594-9bf4-34e8dbc1eb2c"
      },
      "source": [
        "good_shops_words = count(good_shops['lemmas'])\n",
        "top_10_good = good_shops_words.iloc[1:10]\n",
        "squarify.plot(sizes=top_10_good['pct_total'],label=top_10_good['word'], alpha= 0.7)\n",
        "plt.axis('off')\n",
        "plt.show();"
      ],
      "execution_count": 129,
      "outputs": [
        {
          "output_type": "display_data",
          "data": {
            "image/png": "[encoded data removed]",
            "text/plain": [
              "<Figure size 432x288 with 1 Axes>"
            ]
          },
          "metadata": {
            "tags": [],
            "needs_background": "light"
          }
        }
      ]
    },
    {
      "cell_type": "code",
      "metadata": {
        "colab": {
          "base_uri": "https://localhost:8080/",
          "height": 248
        },
        "id": "y3GDJ642ifiQ",
        "outputId": "0b3cadc5-108f-4a5f-e7d6-910d41bc0ac1"
      },
      "source": [
        "# Plotting top 10 most used words in reviews for bad shops\n",
        "bad_shops_words = count(bad_shops['lemmas'])\n",
        "top_10_bad = bad_shops_words.iloc[0:10]\n",
        "squarify.plot(sizes=top_10_bad['pct_total'],label=top_10_bad['word'], alpha= 0.7)\n",
        "plt.axis('off')\n",
        "plt.show();"
      ],
      "execution_count": 133,
      "outputs": [
        {
          "output_type": "display_data",
          "data": {
            "image/png": "[encoded data removed]",
            "text/plain": [
              "<Figure size 432x288 with 1 Axes>"
            ]
          },
          "metadata": {
            "tags": [],
            "needs_background": "light"
          }
        }
      ]
    },
    {
      "cell_type": "code",
      "metadata": {
        "colab": {
          "base_uri": "https://localhost:8080/",
          "height": 248
        },
        "id": "Y_eKCS53jrks",
        "outputId": "c01c31a2-8623-4c08-d12b-58cb10c54f03"
      },
      "source": [
        "good_shops_words = count(good_shops['lemmas'])\n",
        "top_10_good = good_shops_words.iloc[3:13]\n",
        "squarify.plot(sizes=top_10_good['pct_total'],label=top_10_good['word'], alpha= 0.7)\n",
        "plt.axis('off')\n",
        "plt.show();"
      ],
      "execution_count": 135,
      "outputs": [
        {
          "output_type": "display_data",
          "data": {
            "image/png": "[encoded data removed]",
            "text/plain": [
              "<Figure size 432x288 with 1 Axes>"
            ]
          },
          "metadata": {
            "tags": [],
            "needs_background": "light"
          }
        }
      ]
    },
    {
      "cell_type": "code",
      "metadata": {
        "colab": {
          "base_uri": "https://localhost:8080/",
          "height": 248
        },
        "id": "3447N_OljUDm",
        "outputId": "dd8503a7-1f20-444e-9829-146f5e1ac90d"
      },
      "source": [
        "bad_shops_words = count(bad_shops['lemmas'])\n",
        "top_10_bad = bad_shops_words.iloc[3:13]\n",
        "squarify.plot(sizes=top_10_bad['pct_total'],label=top_10_bad['word'], alpha= 0.7)\n",
        "plt.axis('off')\n",
        "plt.show();"
      ],
      "execution_count": 132,
      "outputs": [
        {
          "output_type": "display_data",
          "data": {
            "image/png": "[encoded data removed]",
            "text/plain": [
              "<Figure size 432x288 with 1 Axes>"
            ]
          },
          "metadata": {
            "tags": [],
            "needs_background": "light"
          }
        }
      ]
    },
    {
      "cell_type": "markdown",
      "metadata": {
        "id": "1dCb1q8XphcP",
        "toc-hr-collapsed": true
      },
      "source": [
        "## Stretch Goals\n",
        "\n",
        "* Analyze another corpus of documents - such as Indeed.com job listings ;).\n",
        "* Play with the Spacy API to\n",
        " - Extract Named Entities\n",
        " - Extracting 'noun chunks'\n",
        " - Attempt Document Classification with just Spacy\n",
        " - *Note:* This [course](https://course.spacy.io/) will be of interesting in helping you with these stretch goals. \n",
        "* Try to build a plotly dash app with your text data \n",
        "\n"
      ]
    },
    {
      "cell_type": "code",
      "metadata": {
        "id": "Ckj6vCA1J6er"
      },
      "source": [
        "def count(docs):\n",
        "\n",
        "        word_counts = Counter()\n",
        "        appears_in = Counter()\n",
        "        \n",
        "        total_docs = len(docs)\n",
        "\n",
        "        for doc in docs:\n",
        "            word_counts.update(doc)\n",
        "            appears_in.update(set(doc))\n",
        "\n",
        "        temp = zip(word_counts.keys(), word_counts.values())\n",
        "        \n",
        "        wc = pd.DataFrame(temp, columns = ['word', 'count'])\n",
        "\n",
        "        wc['rank'] = wc['count'].rank(method='first', ascending=False)\n",
        "        total = wc['count'].sum()\n",
        "\n",
        "        wc['pct_total'] = wc['count'].apply(lambda x: x / total)\n",
        "        \n",
        "        wc = wc.sort_values(by='rank')\n",
        "        wc['cul_pct_total'] = wc['pct_total'].cumsum()\n",
        "\n",
        "        t2 = zip(appears_in.keys(), appears_in.values())\n",
        "        ac = pd.DataFrame(t2, columns=['word', 'appears_in'])\n",
        "        wc = ac.merge(wc, on='word')\n",
        "\n",
        "        wc['appears_in_pct'] = wc['appears_in'].apply(lambda x: x / total_docs)\n",
        "        \n",
        "        return wc.sort_values(by='rank')"
      ],
      "execution_count": 22,
      "outputs": []
    }
  ]
}